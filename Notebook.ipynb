{
 "cells": [
  {
   "cell_type": "code",
   "execution_count": 134,
   "metadata": {},
   "outputs": [],
   "source": [
    "import tensorflow as tf"
   ]
  },
  {
   "cell_type": "code",
   "execution_count": 7,
   "metadata": {},
   "outputs": [
    {
     "name": "stdout",
     "output_type": "stream",
     "text": [
      "Collecting nlp\n",
      "  Downloading nlp-0.4.0-py3-none-any.whl (1.7 MB)\n",
      "Requirement already satisfied: dill in c:\\programdata\\anaconda3\\lib\\site-packages (from nlp) (0.3.3)\n",
      "Requirement already satisfied: pandas in c:\\programdata\\anaconda3\\lib\\site-packages (from nlp) (1.1.3)\n",
      "Requirement already satisfied: filelock in c:\\programdata\\anaconda3\\lib\\site-packages (from nlp) (3.0.12)\n",
      "Requirement already satisfied: tqdm>=4.27 in c:\\programdata\\anaconda3\\lib\\site-packages (from nlp) (4.50.2)\n",
      "Requirement already satisfied: numpy in c:\\programdata\\anaconda3\\lib\\site-packages (from nlp) (1.19.2)\n",
      "Collecting pyarrow>=0.16.0\n",
      "  Downloading pyarrow-4.0.1-cp38-cp38-win_amd64.whl (13.3 MB)\n",
      "Requirement already satisfied: requests>=2.19.0 in c:\\programdata\\anaconda3\\lib\\site-packages (from nlp) (2.24.0)\n",
      "Collecting xxhash\n",
      "  Downloading xxhash-2.0.2-cp38-cp38-win_amd64.whl (35 kB)\n",
      "Requirement already satisfied: python-dateutil>=2.7.3 in c:\\programdata\\anaconda3\\lib\\site-packages (from pandas->nlp) (2.8.1)\n",
      "Requirement already satisfied: pytz>=2017.2 in c:\\programdata\\anaconda3\\lib\\site-packages (from pandas->nlp) (2020.1)\n",
      "Requirement already satisfied: chardet<4,>=3.0.2 in c:\\programdata\\anaconda3\\lib\\site-packages (from requests>=2.19.0->nlp) (3.0.4)\n",
      "Requirement already satisfied: urllib3!=1.25.0,!=1.25.1,<1.26,>=1.21.1 in c:\\programdata\\anaconda3\\lib\\site-packages (from requests>=2.19.0->nlp) (1.25.11)\n",
      "Requirement already satisfied: certifi>=2017.4.17 in c:\\programdata\\anaconda3\\lib\\site-packages (from requests>=2.19.0->nlp) (2020.6.20)\n",
      "Requirement already satisfied: idna<3,>=2.5 in c:\\programdata\\anaconda3\\lib\\site-packages (from requests>=2.19.0->nlp) (2.10)\n",
      "Requirement already satisfied: six>=1.5 in c:\\programdata\\anaconda3\\lib\\site-packages (from python-dateutil>=2.7.3->pandas->nlp) (1.15.0)\n",
      "Installing collected packages: pyarrow, xxhash, nlp\n",
      "Successfully installed nlp-0.4.0 pyarrow-4.0.1 xxhash-2.0.2\n",
      "Note: you may need to restart the kernel to use updated packages.\n"
     ]
    }
   ],
   "source": []
  },
  {
   "cell_type": "code",
   "execution_count": 135,
   "metadata": {},
   "outputs": [
    {
     "name": "stdout",
     "output_type": "stream",
     "text": [
      "Using TensorFlow version 2.4.1\n"
     ]
    }
   ],
   "source": [
    "%matplotlib inline\n",
    "\n",
    "import tensorflow as tf\n",
    "import numpy as np\n",
    "import matplotlib.pyplot as plt\n",
    "import nlp\n",
    "import random\n",
    "\n",
    "\n",
    "def show_history(h):\n",
    "    epochs_trained = len(h.history['loss'])\n",
    "    plt.figure(figsize=(16, 6))\n",
    "\n",
    "    plt.subplot(1, 2, 1)\n",
    "    plt.plot(range(0, epochs_trained), h.history.get('accuracy'), label='Training')\n",
    "    plt.plot(range(0, epochs_trained), h.history.get('val_accuracy'), label='Validation')\n",
    "    plt.ylim([0., 1.])\n",
    "    plt.xlabel('Epochs')\n",
    "    plt.ylabel('Accuracy')\n",
    "    plt.legend()\n",
    "\n",
    "    plt.subplot(1, 2, 2)\n",
    "    plt.plot(range(0, epochs_trained), h.history.get('loss'), label='Training')\n",
    "    plt.plot(range(0, epochs_trained), h.history.get('val_loss'), label='Validation')\n",
    "    plt.xlabel('Epochs')\n",
    "    plt.ylabel('Loss')\n",
    "    plt.legend()\n",
    "    plt.show()\n",
    "\n",
    "    \n",
    "def show_confusion_matrix(y_true, y_pred, classes):\n",
    "    from sklearn.metrics import confusion_matrix\n",
    "    \n",
    "    cm = confusion_matrix(y_true, y_pred, normalize='true')\n",
    "\n",
    "    plt.figure(figsize=(8, 8))\n",
    "    sp = plt.subplot(1, 1, 1)\n",
    "    ctx = sp.matshow(cm)\n",
    "    plt.xticks(list(range(0, 6)), labels=classes)\n",
    "    plt.yticks(list(range(0, 6)), labels=classes)\n",
    "    plt.colorbar(ctx)\n",
    "    plt.show()\n",
    "\n",
    "    \n",
    "print('Using TensorFlow version', tf.__version__)"
   ]
  },
  {
   "cell_type": "code",
   "execution_count": 9,
   "metadata": {},
   "outputs": [
    {
     "data": {
      "application/vnd.jupyter.widget-view+json": {
       "model_id": "f8cc6f32136849d0acac6b2442bd58b9",
       "version_major": 2,
       "version_minor": 0
      },
      "text/plain": [
       "HBox(children=(HTML(value='Downloading'), FloatProgress(value=0.0, max=3406.0), HTML(value='')))"
      ]
     },
     "metadata": {},
     "output_type": "display_data"
    },
    {
     "name": "stdout",
     "output_type": "stream",
     "text": [
      "\n"
     ]
    },
    {
     "name": "stderr",
     "output_type": "stream",
     "text": [
      "Using custom data configuration default\n"
     ]
    },
    {
     "name": "stdout",
     "output_type": "stream",
     "text": [
      "Downloading and preparing dataset emotion/default (download: Unknown size, generated: Unknown size, post-processed: Unknown sizetotal: Unknown size) to C:\\Users\\issam\\.cache\\huggingface\\datasets\\emotion\\default\\0.0.0\\84e07cd366f4451464584cdbd4958f512bcaddb1e921341e07298ce8a9ce42f4...\n"
     ]
    },
    {
     "data": {
      "application/vnd.jupyter.widget-view+json": {
       "model_id": "e7b1f760fc514200b5443a0e7fa21f18",
       "version_major": 2,
       "version_minor": 0
      },
      "text/plain": [
       "HBox(children=(HTML(value='Downloading'), FloatProgress(value=0.0, max=1658616.0), HTML(value='')))"
      ]
     },
     "metadata": {},
     "output_type": "display_data"
    },
    {
     "name": "stdout",
     "output_type": "stream",
     "text": [
      "\n"
     ]
    },
    {
     "data": {
      "application/vnd.jupyter.widget-view+json": {
       "model_id": "a8168b42aec647fda2bbc95acffd10ac",
       "version_major": 2,
       "version_minor": 0
      },
      "text/plain": [
       "HBox(children=(HTML(value='Downloading'), FloatProgress(value=0.0, max=204240.0), HTML(value='')))"
      ]
     },
     "metadata": {},
     "output_type": "display_data"
    },
    {
     "name": "stdout",
     "output_type": "stream",
     "text": [
      "\n"
     ]
    },
    {
     "data": {
      "application/vnd.jupyter.widget-view+json": {
       "model_id": "3e505f0e672142e28e122d10a70f988e",
       "version_major": 2,
       "version_minor": 0
      },
      "text/plain": [
       "HBox(children=(HTML(value='Downloading'), FloatProgress(value=0.0, max=206760.0), HTML(value='')))"
      ]
     },
     "metadata": {},
     "output_type": "display_data"
    },
    {
     "name": "stdout",
     "output_type": "stream",
     "text": [
      "\n"
     ]
    },
    {
     "data": {
      "application/vnd.jupyter.widget-view+json": {
       "model_id": "",
       "version_major": 2,
       "version_minor": 0
      },
      "text/plain": [
       "HBox(children=(HTML(value=''), FloatProgress(value=1.0, bar_style='info', layout=Layout(width='20px'), max=1.0…"
      ]
     },
     "metadata": {},
     "output_type": "display_data"
    },
    {
     "data": {
      "application/vnd.jupyter.widget-view+json": {
       "model_id": "",
       "version_major": 2,
       "version_minor": 0
      },
      "text/plain": [
       "HBox(children=(HTML(value=''), FloatProgress(value=1.0, bar_style='info', layout=Layout(width='20px'), max=1.0…"
      ]
     },
     "metadata": {},
     "output_type": "display_data"
    },
    {
     "data": {
      "application/vnd.jupyter.widget-view+json": {
       "model_id": "",
       "version_major": 2,
       "version_minor": 0
      },
      "text/plain": [
       "HBox(children=(HTML(value=''), FloatProgress(value=1.0, bar_style='info', layout=Layout(width='20px'), max=1.0…"
      ]
     },
     "metadata": {},
     "output_type": "display_data"
    },
    {
     "name": "stdout",
     "output_type": "stream",
     "text": [
      "Dataset emotion downloaded and prepared to C:\\Users\\issam\\.cache\\huggingface\\datasets\\emotion\\default\\0.0.0\\84e07cd366f4451464584cdbd4958f512bcaddb1e921341e07298ce8a9ce42f4. Subsequent calls will reuse this data.\n"
     ]
    }
   ],
   "source": [
    "dataset= nlp.load_dataset('emotion')"
   ]
  },
  {
   "cell_type": "code",
   "execution_count": 136,
   "metadata": {},
   "outputs": [
    {
     "data": {
      "text/plain": [
       "{'train': Dataset(features: {'text': Value(dtype='string', id=None), 'label': Value(dtype='string', id=None)}, num_rows: 16000),\n",
       " 'validation': Dataset(features: {'text': Value(dtype='string', id=None), 'label': Value(dtype='string', id=None)}, num_rows: 2000),\n",
       " 'test': Dataset(features: {'text': Value(dtype='string', id=None), 'label': Value(dtype='string', id=None)}, num_rows: 2000)}"
      ]
     },
     "execution_count": 136,
     "metadata": {},
     "output_type": "execute_result"
    }
   ],
   "source": [
    "dataset"
   ]
  },
  {
   "cell_type": "code",
   "execution_count": 11,
   "metadata": {},
   "outputs": [],
   "source": [
    "train = dataset['train']\n",
    "test = dataset['test']\n",
    "validation = dataset['validation']"
   ]
  },
  {
   "cell_type": "code",
   "execution_count": 36,
   "metadata": {},
   "outputs": [],
   "source": [
    "def get_tweet(data):\n",
    "    texts = data['text']\n",
    "    labels = data['label']\n",
    "    return texts,labels"
   ]
  },
  {
   "cell_type": "code",
   "execution_count": 41,
   "metadata": {},
   "outputs": [
    {
     "data": {
      "text/plain": [
       "('i can go from feeling so hopeless to so damned hopeful just from being around someone who cares and is awake',\n",
       " 'sadness')"
      ]
     },
     "execution_count": 41,
     "metadata": {},
     "output_type": "execute_result"
    }
   ],
   "source": [
    "texts,labels =get_tweet(train)\n"
   ]
  },
  {
   "cell_type": "code",
   "execution_count": 42,
   "metadata": {},
   "outputs": [],
   "source": [
    "#Tokenizer : map each word to a number\n",
    "from tensorflow.keras.preprocessing.text import Tokenizer"
   ]
  },
  {
   "cell_type": "code",
   "execution_count": 44,
   "metadata": {},
   "outputs": [],
   "source": [
    "#we will have 10K most repeated words, and all of the unmapped words will have the '<UNK>' key\n",
    "tokenizer = Tokenizer(num_words=10000, oov_token='<UNK>') \n",
    "tokenizer.fit_on_texts(texts)"
   ]
  },
  {
   "cell_type": "code",
   "execution_count": 69,
   "metadata": {
    "collapsed": true
   },
   "outputs": [
    {
     "data": {
      "text/plain": [
       "{1: '<UNK>',\n",
       " 2: 'i',\n",
       " 3: 'feel',\n",
       " 4: 'and',\n",
       " 5: 'to',\n",
       " 6: 'the',\n",
       " 7: 'a',\n",
       " 8: 'feeling',\n",
       " 9: 'that',\n",
       " 10: 'of',\n",
       " 11: 'my',\n",
       " 12: 'in',\n",
       " 13: 'it',\n",
       " 14: 'like',\n",
       " 15: 'so',\n",
       " 16: 'for',\n",
       " 17: 'im',\n",
       " 18: 'me',\n",
       " 19: 'but',\n",
       " 20: 'was',\n",
       " 21: 'have',\n",
       " 22: 'is',\n",
       " 23: 'this',\n",
       " 24: 'am',\n",
       " 25: 'with',\n",
       " 26: 'not',\n",
       " 27: 'about',\n",
       " 28: 'be',\n",
       " 29: 'as',\n",
       " 30: 'on',\n",
       " 31: 'you',\n",
       " 32: 'just',\n",
       " 33: 'at',\n",
       " 34: 'when',\n",
       " 35: 'or',\n",
       " 36: 'all',\n",
       " 37: 'because',\n",
       " 38: 'more',\n",
       " 39: 'do',\n",
       " 40: 'can',\n",
       " 41: 'really',\n",
       " 42: 'up',\n",
       " 43: 't',\n",
       " 44: 'are',\n",
       " 45: 'by',\n",
       " 46: 'very',\n",
       " 47: 'know',\n",
       " 48: 'been',\n",
       " 49: 'if',\n",
       " 50: 'out',\n",
       " 51: 'myself',\n",
       " 52: 'time',\n",
       " 53: 'how',\n",
       " 54: 'what',\n",
       " 55: 'get',\n",
       " 56: 'little',\n",
       " 57: 'had',\n",
       " 58: 'now',\n",
       " 59: 'will',\n",
       " 60: 'from',\n",
       " 61: 'being',\n",
       " 62: 'they',\n",
       " 63: 'people',\n",
       " 64: 'them',\n",
       " 65: 'would',\n",
       " 66: 'he',\n",
       " 67: 'want',\n",
       " 68: 'her',\n",
       " 69: 'some',\n",
       " 70: 'think',\n",
       " 71: 'one',\n",
       " 72: 'still',\n",
       " 73: 'ive',\n",
       " 74: 'him',\n",
       " 75: 'even',\n",
       " 76: 'who',\n",
       " 77: 'an',\n",
       " 78: 'life',\n",
       " 79: 'its',\n",
       " 80: 'make',\n",
       " 81: 'there',\n",
       " 82: 'we',\n",
       " 83: 'bit',\n",
       " 84: 'something',\n",
       " 85: 'love',\n",
       " 86: 'much',\n",
       " 87: 'going',\n",
       " 88: 'dont',\n",
       " 89: 'things',\n",
       " 90: 's',\n",
       " 91: 'way',\n",
       " 92: 'could',\n",
       " 93: 'm',\n",
       " 94: 'too',\n",
       " 95: 'than',\n",
       " 96: 'no',\n",
       " 97: 'day',\n",
       " 98: 'she',\n",
       " 99: 'has',\n",
       " 100: 'back',\n",
       " 101: 'go',\n",
       " 102: 'good',\n",
       " 103: 'pretty',\n",
       " 104: 'don',\n",
       " 105: 'need',\n",
       " 106: 'into',\n",
       " 107: 'his',\n",
       " 108: 'which',\n",
       " 109: 'these',\n",
       " 110: 'your',\n",
       " 111: 'their',\n",
       " 112: 'always',\n",
       " 113: 'see',\n",
       " 114: 'right',\n",
       " 115: 'feelings',\n",
       " 116: 'over',\n",
       " 117: 'also',\n",
       " 118: 'only',\n",
       " 119: 'say',\n",
       " 120: 'other',\n",
       " 121: 'should',\n",
       " 122: 'today',\n",
       " 123: 'feels',\n",
       " 124: 'work',\n",
       " 125: 'then',\n",
       " 126: 'after',\n",
       " 127: 'did',\n",
       " 128: 'around',\n",
       " 129: 'again',\n",
       " 130: 'were',\n",
       " 131: 'cant',\n",
       " 132: 'made',\n",
       " 133: 'our',\n",
       " 134: 'most',\n",
       " 135: 'well',\n",
       " 136: 'here',\n",
       " 137: 'though',\n",
       " 138: 'through',\n",
       " 139: 'didnt',\n",
       " 140: 'help',\n",
       " 141: 'got',\n",
       " 142: 'down',\n",
       " 143: 'those',\n",
       " 144: 'felt',\n",
       " 145: 'never',\n",
       " 146: 'any',\n",
       " 147: 'every',\n",
       " 148: 'someone',\n",
       " 149: 'days',\n",
       " 150: 'having',\n",
       " 151: 'less',\n",
       " 152: 'makes',\n",
       " 153: 'where',\n",
       " 154: 'happy',\n",
       " 155: 'doing',\n",
       " 156: 'enough',\n",
       " 157: 'quite',\n",
       " 158: 'sure',\n",
       " 159: 'lot',\n",
       " 160: 'many',\n",
       " 161: 'why',\n",
       " 162: 'away',\n",
       " 163: 'look',\n",
       " 164: 'find',\n",
       " 165: 'ever',\n",
       " 166: 'anything',\n",
       " 167: 'home',\n",
       " 168: 'kind',\n",
       " 169: 'off',\n",
       " 170: 'better',\n",
       " 171: 'person',\n",
       " 172: 'left',\n",
       " 173: 'friends',\n",
       " 174: 'without',\n",
       " 175: 'own',\n",
       " 176: 'before',\n",
       " 177: 'everything',\n",
       " 178: 'actually',\n",
       " 179: 'last',\n",
       " 180: 'getting',\n",
       " 181: 'such',\n",
       " 182: 'come',\n",
       " 183: 'take',\n",
       " 184: 'world',\n",
       " 185: 'new',\n",
       " 186: 'sometimes',\n",
       " 187: 'while',\n",
       " 188: 'http',\n",
       " 189: 'thing',\n",
       " 190: 'remember',\n",
       " 191: 'trying',\n",
       " 192: 'few',\n",
       " 193: 'year',\n",
       " 194: 'thought',\n",
       " 195: 'first',\n",
       " 196: 'times',\n",
       " 197: 'family',\n",
       " 198: 'started',\n",
       " 199: 'able',\n",
       " 200: 'said',\n",
       " 201: 'alone',\n",
       " 202: 'week',\n",
       " 203: 'rather',\n",
       " 204: 'try',\n",
       " 205: 'making',\n",
       " 206: 'long',\n",
       " 207: 'let',\n",
       " 208: 'already',\n",
       " 209: 'keep',\n",
       " 210: 'href',\n",
       " 211: 'bad',\n",
       " 212: 'ill',\n",
       " 213: 'start',\n",
       " 214: 'us',\n",
       " 215: 'years',\n",
       " 216: 'read',\n",
       " 217: 'others',\n",
       " 218: 'yet',\n",
       " 219: 'two',\n",
       " 220: 'give',\n",
       " 221: 'tell',\n",
       " 222: 'may',\n",
       " 223: 'place',\n",
       " 224: 'same',\n",
       " 225: 'write',\n",
       " 226: 'since',\n",
       " 227: 'nothing',\n",
       " 228: 'end',\n",
       " 229: 'heart',\n",
       " 230: 'part',\n",
       " 231: 'often',\n",
       " 232: 'hate',\n",
       " 233: 'stressed',\n",
       " 234: 'strange',\n",
       " 235: 'sweet',\n",
       " 236: 'moment',\n",
       " 237: 'morning',\n",
       " 238: 'overwhelmed',\n",
       " 239: 'hope',\n",
       " 240: 'might',\n",
       " 241: 'school',\n",
       " 242: 'god',\n",
       " 243: 'blog',\n",
       " 244: 'anyone',\n",
       " 245: 'didn',\n",
       " 246: 'night',\n",
       " 247: 'weird',\n",
       " 248: 'put',\n",
       " 249: 'id',\n",
       " 250: 'hard',\n",
       " 251: 'friend',\n",
       " 252: 'guess',\n",
       " 253: 'looking',\n",
       " 254: 'stop',\n",
       " 255: 'wanted',\n",
       " 256: 'everyone',\n",
       " 257: 'once',\n",
       " 258: 'whole',\n",
       " 259: 'point',\n",
       " 260: 'sad',\n",
       " 261: 'pain',\n",
       " 262: 'does',\n",
       " 263: 'thinking',\n",
       " 264: 'angry',\n",
       " 265: 'another',\n",
       " 266: 'loved',\n",
       " 267: 'old',\n",
       " 268: 'excited',\n",
       " 269: 'went',\n",
       " 270: 'lost',\n",
       " 271: 'hurt',\n",
       " 272: 'amazing',\n",
       " 273: 'blessed',\n",
       " 274: 'done',\n",
       " 275: 'each',\n",
       " 276: 'writing',\n",
       " 277: 'passionate',\n",
       " 278: 'understand',\n",
       " 279: 'body',\n",
       " 280: 'talk',\n",
       " 281: 'important',\n",
       " 282: 'maybe',\n",
       " 283: 'stupid',\n",
       " 284: 'almost',\n",
       " 285: 'completely',\n",
       " 286: 'post',\n",
       " 287: 'self',\n",
       " 288: 'tired',\n",
       " 289: 'least',\n",
       " 290: 've',\n",
       " 291: 'especially',\n",
       " 292: 'next',\n",
       " 293: 'helpless',\n",
       " 294: 'accepted',\n",
       " 295: 'free',\n",
       " 296: 'must',\n",
       " 297: 'use',\n",
       " 298: 'past',\n",
       " 299: 'best',\n",
       " 300: 'leave',\n",
       " 301: 'afraid',\n",
       " 302: 'face',\n",
       " 303: 'hated',\n",
       " 304: 'mean',\n",
       " 305: 'great',\n",
       " 306: 'used',\n",
       " 307: 'sense',\n",
       " 308: 'agitated',\n",
       " 309: 'cold',\n",
       " 310: 'fact',\n",
       " 311: 'thats',\n",
       " 312: 'care',\n",
       " 313: 'job',\n",
       " 314: 'real',\n",
       " 315: 'mind',\n",
       " 316: 'starting',\n",
       " 317: 'believe',\n",
       " 318: 'inside',\n",
       " 319: 'lately',\n",
       " 320: 'else',\n",
       " 321: 'girl',\n",
       " 322: 'towards',\n",
       " 323: 'found',\n",
       " 324: 'sleep',\n",
       " 325: 'totally',\n",
       " 326: 'reason',\n",
       " 327: 'strong',\n",
       " 328: 'wasnt',\n",
       " 329: 'taking',\n",
       " 330: 'book',\n",
       " 331: 'live',\n",
       " 332: 'until',\n",
       " 333: 'supporting',\n",
       " 334: 'thankful',\n",
       " 335: 'anxious',\n",
       " 336: 'class',\n",
       " 337: 'nervous',\n",
       " 338: 'probably',\n",
       " 339: 'low',\n",
       " 340: 'glad',\n",
       " 341: 'ok',\n",
       " 342: 'generous',\n",
       " 343: 'sorry',\n",
       " 344: 'sort',\n",
       " 345: 'become',\n",
       " 346: 'share',\n",
       " 347: 'loving',\n",
       " 348: 'told',\n",
       " 349: 'words',\n",
       " 350: 'months',\n",
       " 351: 'slightly',\n",
       " 352: 'far',\n",
       " 353: 'wonderful',\n",
       " 354: 'head',\n",
       " 355: 'saying',\n",
       " 356: 'perfect',\n",
       " 357: 'reading',\n",
       " 358: 'kids',\n",
       " 359: 'house',\n",
       " 360: 'came',\n",
       " 361: 'depressed',\n",
       " 362: 'wish',\n",
       " 363: 'safe',\n",
       " 364: 'lonely',\n",
       " 365: 'cool',\n",
       " 366: 'frustrated',\n",
       " 367: 'special',\n",
       " 368: 'show',\n",
       " 369: 'particularly',\n",
       " 370: 'working',\n",
       " 371: 'comfortable',\n",
       " 372: 're',\n",
       " 373: 'scared',\n",
       " 374: 'man',\n",
       " 375: 'coming',\n",
       " 376: 'extremely',\n",
       " 377: 'hear',\n",
       " 378: 'guilty',\n",
       " 379: 'child',\n",
       " 380: 'horrible',\n",
       " 381: 'fine',\n",
       " 382: 'positive',\n",
       " 383: 'bed',\n",
       " 384: 'big',\n",
       " 385: 'emotional',\n",
       " 386: 'children',\n",
       " 387: 'during',\n",
       " 388: 'call',\n",
       " 389: 'confident',\n",
       " 390: 'run',\n",
       " 391: 'amp',\n",
       " 392: 'beloved',\n",
       " 393: 'miserable',\n",
       " 394: 'stuff',\n",
       " 395: 'truly',\n",
       " 396: 'hot',\n",
       " 397: 'terrified',\n",
       " 398: 'thoughts',\n",
       " 399: 'exhausted',\n",
       " 400: 'missed',\n",
       " 401: 'cannot',\n",
       " 402: 'eyes',\n",
       " 403: 'lovely',\n",
       " 404: 'proud',\n",
       " 405: 'tortured',\n",
       " 406: 'ashamed',\n",
       " 407: 'living',\n",
       " 408: 'finally',\n",
       " 409: 'woke',\n",
       " 410: 'control',\n",
       " 411: 'liked',\n",
       " 412: 'irritable',\n",
       " 413: 'hours',\n",
       " 414: 'mother',\n",
       " 415: 'satisfied',\n",
       " 416: 'room',\n",
       " 417: 'anymore',\n",
       " 418: 'havent',\n",
       " 419: 'future',\n",
       " 420: 'awkward',\n",
       " 421: 'walk',\n",
       " 422: 'admit',\n",
       " 423: 'together',\n",
       " 424: 'mad',\n",
       " 425: 'close',\n",
       " 426: 'content',\n",
       " 427: 'selfish',\n",
       " 428: 'seem',\n",
       " 429: 'change',\n",
       " 430: 'usually',\n",
       " 431: 'story',\n",
       " 432: 'lucky',\n",
       " 433: 'successful',\n",
       " 434: 'doesnt',\n",
       " 435: 'disappointed',\n",
       " 436: 'caring',\n",
       " 437: 'spent',\n",
       " 438: 'wrong',\n",
       " 439: 'confused',\n",
       " 440: 'experience',\n",
       " 441: 'unsure',\n",
       " 442: 'woman',\n",
       " 443: 'miss',\n",
       " 444: 'decided',\n",
       " 445: 'wont',\n",
       " 446: 'lethargic',\n",
       " 447: 'amazed',\n",
       " 448: 'super',\n",
       " 449: 'fun',\n",
       " 450: 'matter',\n",
       " 451: 'somehow',\n",
       " 452: 'instead',\n",
       " 453: 'unhappy',\n",
       " 454: 'bothered',\n",
       " 455: 'funny',\n",
       " 456: 'energy',\n",
       " 457: 'longer',\n",
       " 458: 'creative',\n",
       " 459: 'inspired',\n",
       " 460: 'mom',\n",
       " 461: 'popular',\n",
       " 462: 'knew',\n",
       " 463: 'baby',\n",
       " 464: 'seems',\n",
       " 465: 'couldnt',\n",
       " 466: 'side',\n",
       " 467: 'embarrassed',\n",
       " 468: 'small',\n",
       " 469: 'shitty',\n",
       " 470: 'vulnerable',\n",
       " 471: 'annoyed',\n",
       " 472: 'cute',\n",
       " 473: 'full',\n",
       " 474: 'somewhat',\n",
       " 475: 'brave',\n",
       " 476: 'talented',\n",
       " 477: 'situation',\n",
       " 478: 'enjoy',\n",
       " 479: 'move',\n",
       " 480: 'weeks',\n",
       " 481: 'between',\n",
       " 482: 'rest',\n",
       " 483: 'running',\n",
       " 484: 'ask',\n",
       " 485: 'calm',\n",
       " 486: 'idea',\n",
       " 487: 'awful',\n",
       " 488: 'rich',\n",
       " 489: 'terrible',\n",
       " 490: 'knowing',\n",
       " 491: 'ago',\n",
       " 492: 'convinced',\n",
       " 493: 'both',\n",
       " 494: 'hopeless',\n",
       " 495: 'greedy',\n",
       " 496: 'surprised',\n",
       " 497: 'shaken',\n",
       " 498: 'uncomfortable',\n",
       " 499: 'punished',\n",
       " 500: 'absolutely',\n",
       " 501: 'needed',\n",
       " 502: 'empty',\n",
       " 503: 'uncertain',\n",
       " 504: 'precious',\n",
       " 505: 'irritated',\n",
       " 506: 'fucked',\n",
       " 507: 'hes',\n",
       " 508: 'sit',\n",
       " 509: 'money',\n",
       " 510: 'comes',\n",
       " 511: 'insecure',\n",
       " 512: 'melancholy',\n",
       " 513: 'impressed',\n",
       " 514: 'discouraged',\n",
       " 515: 'aching',\n",
       " 516: 'wear',\n",
       " 517: 'offended',\n",
       " 518: 'happen',\n",
       " 519: 'food',\n",
       " 520: 'devastated',\n",
       " 521: 'burdened',\n",
       " 522: 'rejected',\n",
       " 523: 'support',\n",
       " 524: 'eat',\n",
       " 525: 'asked',\n",
       " 526: 'useful',\n",
       " 527: 'hair',\n",
       " 528: 'jealous',\n",
       " 529: 'resentful',\n",
       " 530: 'divine',\n",
       " 531: 'violent',\n",
       " 532: 'talking',\n",
       " 533: 'soon',\n",
       " 534: 'homesick',\n",
       " 535: 'nice',\n",
       " 536: 'sitting',\n",
       " 537: 'wonder',\n",
       " 538: 'simply',\n",
       " 539: 'reluctant',\n",
       " 540: 'dull',\n",
       " 541: 'll',\n",
       " 542: 'husband',\n",
       " 543: 'pleasant',\n",
       " 544: 'seeing',\n",
       " 545: 'different',\n",
       " 546: 'giving',\n",
       " 547: 'watch',\n",
       " 548: 'isolated',\n",
       " 549: 'turn',\n",
       " 550: 'women',\n",
       " 551: 'open',\n",
       " 552: 'happened',\n",
       " 553: 'hopeful',\n",
       " 554: 'however',\n",
       " 555: 'beautiful',\n",
       " 556: 'whether',\n",
       " 557: 'cause',\n",
       " 558: 'music',\n",
       " 559: 'cranky',\n",
       " 560: 'respected',\n",
       " 561: 'youre',\n",
       " 562: 'hand',\n",
       " 563: 'paranoid',\n",
       " 564: 'tonight',\n",
       " 565: 'useless',\n",
       " 566: 'began',\n",
       " 567: 'kinda',\n",
       " 568: 'rude',\n",
       " 569: 'mine',\n",
       " 570: 'gorgeous',\n",
       " 571: 'rushed',\n",
       " 572: 'apprehensive',\n",
       " 573: 'assured',\n",
       " 574: 'curious',\n",
       " 575: 'stay',\n",
       " 576: 'ways',\n",
       " 577: 'theres',\n",
       " 578: 'beaten',\n",
       " 579: 'wanting',\n",
       " 580: 'insulted',\n",
       " 581: 'determined',\n",
       " 582: 'pressured',\n",
       " 583: 'honored',\n",
       " 584: 'relaxed',\n",
       " 585: 'ugly',\n",
       " 586: 'sick',\n",
       " 587: 'pissed',\n",
       " 588: 'groggy',\n",
       " 589: 'innocent',\n",
       " 590: 'gloomy',\n",
       " 591: 'valuable',\n",
       " 592: 'guy',\n",
       " 593: 'unwelcome',\n",
       " 594: 'parents',\n",
       " 595: 'took',\n",
       " 596: 'ready',\n",
       " 597: 'wronged',\n",
       " 598: 'either',\n",
       " 599: 'valued',\n",
       " 600: 'gone',\n",
       " 601: 'certain',\n",
       " 602: 'dangerous',\n",
       " 603: 'incredibly',\n",
       " 604: 'honestly',\n",
       " 605: 'watching',\n",
       " 606: 'wake',\n",
       " 607: 'numb',\n",
       " 608: 'optimistic',\n",
       " 609: 'set',\n",
       " 610: 'dissatisfied',\n",
       " 611: 'pathetic',\n",
       " 612: 'needs',\n",
       " 613: 'couple',\n",
       " 614: 'faithful',\n",
       " 615: 'against',\n",
       " 616: 'intimidated',\n",
       " 617: 'shy',\n",
       " 618: 'blank',\n",
       " 619: 'sympathetic',\n",
       " 620: 'ignored',\n",
       " 621: 'crappy',\n",
       " 622: 'friendly',\n",
       " 623: 'dumb',\n",
       " 624: 'books',\n",
       " 625: 'joyful',\n",
       " 626: 'heartbroken',\n",
       " 627: 'dirty',\n",
       " 628: 'song',\n",
       " 629: 'bitter',\n",
       " 630: 'superior',\n",
       " 631: 'worthless',\n",
       " 632: 'cry',\n",
       " 633: 'three',\n",
       " 634: 'shes',\n",
       " 635: 'relationship',\n",
       " 636: 'disheartened',\n",
       " 637: 'sincere',\n",
       " 638: 'longing',\n",
       " 639: 'smart',\n",
       " 640: 'weekend',\n",
       " 641: 'threatened',\n",
       " 642: 'pleased',\n",
       " 643: 'festive',\n",
       " 644: 'realize',\n",
       " 645: 'high',\n",
       " 646: 'definitely',\n",
       " 647: 'called',\n",
       " 648: 'regretful',\n",
       " 649: 'front',\n",
       " 650: 'hesitant',\n",
       " 651: 'lousy',\n",
       " 652: 'www',\n",
       " 653: 'listen',\n",
       " 654: 'vain',\n",
       " 655: 'mellow',\n",
       " 656: 'trust',\n",
       " 657: 'weight',\n",
       " 658: 'delicious',\n",
       " 659: 'joy',\n",
       " 660: 'disturbed',\n",
       " 661: 'clever',\n",
       " 662: 'broke',\n",
       " 663: 'naughty',\n",
       " 664: 'upset',\n",
       " 665: 'nostalgic',\n",
       " 666: 'romantic',\n",
       " 667: 'fake',\n",
       " 668: 'supportive',\n",
       " 669: 'd',\n",
       " 670: 'shocked',\n",
       " 671: 'bitchy',\n",
       " 672: 'productive',\n",
       " 673: 'damaged',\n",
       " 674: 'ones',\n",
       " 675: 'yesterday',\n",
       " 676: 'eating',\n",
       " 677: 'waiting',\n",
       " 678: 'guys',\n",
       " 679: 'humiliated',\n",
       " 680: 'lives',\n",
       " 681: 'etc',\n",
       " 682: 'spend',\n",
       " 683: 'fearful',\n",
       " 684: 'fantastic',\n",
       " 685: 'outside',\n",
       " 686: 'resolved',\n",
       " 687: 'distracted',\n",
       " 688: 'true',\n",
       " 689: 'drained',\n",
       " 690: 'half',\n",
       " 691: 'troubled',\n",
       " 692: 'inadequate',\n",
       " 693: 'hour',\n",
       " 694: 'defeated',\n",
       " 695: 'course',\n",
       " 696: 'given',\n",
       " 697: 'energetic',\n",
       " 698: 'disgusted',\n",
       " 699: 'whatever',\n",
       " 700: 'tried',\n",
       " 701: 'intelligent',\n",
       " 702: 'suddenly',\n",
       " 703: 'shaky',\n",
       " 704: 'petty',\n",
       " 705: 'listless',\n",
       " 706: 'gentle',\n",
       " 707: 'unimportant',\n",
       " 708: 'trusting',\n",
       " 709: 'fabulous',\n",
       " 710: 'carefree',\n",
       " 711: 'boring',\n",
       " 712: 'second',\n",
       " 713: 'whenever',\n",
       " 714: 'relieved',\n",
       " 715: 'rotten',\n",
       " 716: 'welcomed',\n",
       " 717: 'lame',\n",
       " 718: 'skin',\n",
       " 719: 'behind',\n",
       " 720: 'generally',\n",
       " 721: 'christmas',\n",
       " 722: 'supposed',\n",
       " 723: 'eager',\n",
       " 724: 'deprived',\n",
       " 725: 'needy',\n",
       " 726: 'isnt',\n",
       " 727: 'exactly',\n",
       " 728: 'continue',\n",
       " 729: 'single',\n",
       " 730: 'deep',\n",
       " 731: 'unfortunate',\n",
       " 732: 'summer',\n",
       " 733: 'suffering',\n",
       " 734: 'list',\n",
       " 735: 'grateful',\n",
       " 736: 'under',\n",
       " 737: 'buy',\n",
       " 738: 'horny',\n",
       " 739: 'rebellious',\n",
       " 740: 'hold',\n",
       " 741: 'impatient',\n",
       " 742: 'play',\n",
       " 743: 'adventurous',\n",
       " 744: 'although',\n",
       " 745: 'realized',\n",
       " 746: 'doomed',\n",
       " 747: 'plan',\n",
       " 748: 'young',\n",
       " 749: 'worthwhile',\n",
       " 750: 'country',\n",
       " 751: 'word',\n",
       " 752: 'restless',\n",
       " 753: 'toward',\n",
       " 754: 'loyal',\n",
       " 755: 'tender',\n",
       " 756: 'thrilled',\n",
       " 757: 'peaceful',\n",
       " 758: 'order',\n",
       " 759: 'virtuous',\n",
       " 760: 'jaded',\n",
       " 761: 'smile',\n",
       " 762: 'girls',\n",
       " 763: 'car',\n",
       " 764: 'artistic',\n",
       " 765: 'taken',\n",
       " 766: 'deal',\n",
       " 767: 'ungrateful',\n",
       " 768: 'learned',\n",
       " 769: 'mood',\n",
       " 770: 'honoured',\n",
       " 771: 'fear',\n",
       " 772: 'invigorated',\n",
       " 773: 'normal',\n",
       " 774: 'students',\n",
       " 775: 'using',\n",
       " 776: 'forward',\n",
       " 777: 'wasn',\n",
       " 778: 'along',\n",
       " 779: 'game',\n",
       " 780: 'lack',\n",
       " 781: 'frightened',\n",
       " 782: 'boy',\n",
       " 783: 'problems',\n",
       " 784: 'movie',\n",
       " 785: 'men',\n",
       " 786: 'foolish',\n",
       " 787: 'later',\n",
       " 788: 'acceptable',\n",
       " 789: 'saw',\n",
       " 790: 'name',\n",
       " 791: 'contented',\n",
       " 792: 'abused',\n",
       " 793: 'within',\n",
       " 794: 'break',\n",
       " 795: 'constantly',\n",
       " 796: 'grumpy',\n",
       " 797: 'sat',\n",
       " 798: 'discontent',\n",
       " 799: 'stand',\n",
       " 800: 'telling',\n",
       " 801: 'learn',\n",
       " 802: 'seen',\n",
       " 803: 'moving',\n",
       " 804: 'emotions',\n",
       " 805: 'smug',\n",
       " 806: 'vital',\n",
       " 807: 'beginning',\n",
       " 808: 'lose',\n",
       " 809: 'dream',\n",
       " 810: 'moments',\n",
       " 811: 'art',\n",
       " 812: 'stomach',\n",
       " 813: 'oh',\n",
       " 814: 'triumphant',\n",
       " 815: 'opportunity',\n",
       " 816: 'delicate',\n",
       " 817: 'fall',\n",
       " 818: 'doesn',\n",
       " 819: 'fond',\n",
       " 820: 'desire',\n",
       " 821: 'privileged',\n",
       " 822: 'putting',\n",
       " 823: 'learning',\n",
       " 824: 'terrific',\n",
       " 825: 'minutes',\n",
       " 826: 'stubborn',\n",
       " 827: 'hands',\n",
       " 828: 'meet',\n",
       " 829: 'easy',\n",
       " 830: 'unloved',\n",
       " 831: 'upon',\n",
       " 832: 'submissive',\n",
       " 833: 'age',\n",
       " 834: 'casual',\n",
       " 835: 'team',\n",
       " 836: 'means',\n",
       " 837: 'ecstatic',\n",
       " 838: 'deeply',\n",
       " 839: 'walked',\n",
       " 840: 'type',\n",
       " 841: 'reassured',\n",
       " 842: 'begin',\n",
       " 843: 'goes',\n",
       " 844: 'piece',\n",
       " 845: 'shit',\n",
       " 846: 'wouldnt',\n",
       " 847: 'src',\n",
       " 848: 'worked',\n",
       " 849: 'peace',\n",
       " 850: 'human',\n",
       " 851: 'bring',\n",
       " 852: 'frantic',\n",
       " 853: 'focus',\n",
       " 854: 'worried',\n",
       " 855: 'gets',\n",
       " 856: 'looks',\n",
       " 857: 'healthy',\n",
       " 858: 'kept',\n",
       " 859: 'worth',\n",
       " 860: 'met',\n",
       " 861: 'speak',\n",
       " 862: 'imagine',\n",
       " 863: 'won',\n",
       " 864: 'yes',\n",
       " 865: 'despite',\n",
       " 866: 'group',\n",
       " 867: 'touch',\n",
       " 868: 'personal',\n",
       " 869: 'walking',\n",
       " 870: 'air',\n",
       " 871: 'wearing',\n",
       " 872: 'wants',\n",
       " 873: 'red',\n",
       " 874: 'possibly',\n",
       " 875: 'loss',\n",
       " 876: 'leaving',\n",
       " 877: 'suppose',\n",
       " 878: 'seriously',\n",
       " 879: 'late',\n",
       " 880: 'father',\n",
       " 881: 'space',\n",
       " 882: 'utterly',\n",
       " 883: 'chance',\n",
       " 884: 'phone',\n",
       " 885: 'month',\n",
       " 886: 'comments',\n",
       " 887: 'appreciative',\n",
       " 888: 'amount',\n",
       " 889: 'possible',\n",
       " 890: 'sentimental',\n",
       " 891: 'skeptical',\n",
       " 892: 'stories',\n",
       " 893: 'strongly',\n",
       " 894: 'finished',\n",
       " 895: 'arms',\n",
       " 896: 'across',\n",
       " 897: 'attention',\n",
       " 898: 'envious',\n",
       " 899: 'due',\n",
       " 900: 'tragic',\n",
       " 901: 'damn',\n",
       " 902: 'news',\n",
       " 903: 'amused',\n",
       " 904: 'heard',\n",
       " 905: 'short',\n",
       " 906: 'son',\n",
       " 907: 'tears',\n",
       " 908: 'perhaps',\n",
       " 909: 'quickly',\n",
       " 910: 'style',\n",
       " 911: 'known',\n",
       " 912: 'add',\n",
       " 913: 'spending',\n",
       " 914: 'recently',\n",
       " 915: 'brain',\n",
       " 916: 'questions',\n",
       " 917: 'fucking',\n",
       " 918: 'state',\n",
       " 919: 'community',\n",
       " 920: 'expect',\n",
       " 921: 'unpleasant',\n",
       " 922: 'truth',\n",
       " 923: 'theyre',\n",
       " 924: 'college',\n",
       " 925: 'img',\n",
       " 926: 'line',\n",
       " 927: 'wondering',\n",
       " 928: 'water',\n",
       " 929: 'gave',\n",
       " 930: 'keeping',\n",
       " 931: 'worse',\n",
       " 932: 'doubtful',\n",
       " 933: 'personally',\n",
       " 934: 'dazed',\n",
       " 935: 'finish',\n",
       " 936: 'crazy',\n",
       " 937: 'top',\n",
       " 938: 'disillusioned',\n",
       " 939: 'delighted',\n",
       " 940: 'picture',\n",
       " 941: 'emotionally',\n",
       " 942: 'pay',\n",
       " 943: 'level',\n",
       " 944: 'crying',\n",
       " 945: 'themselves',\n",
       " 946: 'sleeping',\n",
       " 947: 'race',\n",
       " 948: 'cut',\n",
       " 949: 'act',\n",
       " 950: 'voice',\n",
       " 951: 'managed',\n",
       " 952: 'party',\n",
       " 953: 'sadness',\n",
       " 954: 'spirit',\n",
       " 955: 'decision',\n",
       " 956: 'lots',\n",
       " 957: 'messy',\n",
       " 958: 'photos',\n",
       " 959: 'four',\n",
       " 960: 'usual',\n",
       " 961: 'reasons',\n",
       " 962: 'explain',\n",
       " 963: 'distressed',\n",
       " 964: 'everyday',\n",
       " 965: 'trip',\n",
       " 966: 'u',\n",
       " 967: 'effort',\n",
       " 968: 'stress',\n",
       " 969: 'hostile',\n",
       " 970: 'missing',\n",
       " 971: 'physically',\n",
       " 972: 'tomorrow',\n",
       " 973: 'light',\n",
       " 974: 'anger',\n",
       " 975: 'death',\n",
       " 976: 'decide',\n",
       " 977: 'lazy',\n",
       " 978: 'choice',\n",
       " 979: 'wait',\n",
       " 980: 'fairly',\n",
       " 981: 'weather',\n",
       " 982: 'hit',\n",
       " 983: 'remorseful',\n",
       " 984: 'listening',\n",
       " 985: 'anyway',\n",
       " 986: 'early',\n",
       " 987: 'church',\n",
       " 988: 'general',\n",
       " 989: 'step',\n",
       " 990: 'mostly',\n",
       " 991: 'passed',\n",
       " 992: 'tend',\n",
       " 993: 'glamorous',\n",
       " 994: 'please',\n",
       " 995: 'keen',\n",
       " 996: 'looked',\n",
       " 997: 'gotten',\n",
       " 998: 'forget',\n",
       " 999: 'asking',\n",
       " 1000: 'issues',\n",
       " ...}"
      ]
     },
     "execution_count": 69,
     "metadata": {},
     "output_type": "execute_result"
    }
   ],
   "source": [
    "tokenizer.word_counts\n",
    "tokenizer.index_word #sequences"
   ]
  },
  {
   "cell_type": "code",
   "execution_count": 68,
   "metadata": {},
   "outputs": [
    {
     "name": "stdout",
     "output_type": "stream",
     "text": [
      "i didnt feel humiliated\n"
     ]
    },
    {
     "data": {
      "text/plain": [
       "[[2, 139, 3, 679]]"
      ]
     },
     "execution_count": 68,
     "metadata": {},
     "output_type": "execute_result"
    }
   ],
   "source": [
    "print(texts[0])\n",
    "tokenizer.texts_to_sequences([texts[0]])"
   ]
  },
  {
   "cell_type": "code",
   "execution_count": 84,
   "metadata": {},
   "outputs": [
    {
     "data": {
      "image/png": "[encoded data removed]",
      "text/plain": [
       "<Figure size 432x288 with 1 Axes>"
      ]
     },
     "metadata": {
      "needs_background": "light"
     },
     "output_type": "display_data"
    }
   ],
   "source": [
    "## padding and truncating\n",
    "lengths = [len(t.split(' ')) for t in texts] #getting each sentence length\n",
    "plt.hist(lengths)\n",
    "plt.show()\n",
    "#we can see most of the lengths are between 8 to 20 words"
   ]
  },
  {
   "cell_type": "code",
   "execution_count": 85,
   "metadata": {},
   "outputs": [],
   "source": [
    "# we have to make our input have the same length\n",
    "maxlen = 50 #most of our texts are <= than 50 words\n",
    "#we will pad texts with less than 50, and truncate with more than 50\n",
    "from tensorflow.keras.preprocessing.sequence import pad_sequences"
   ]
  },
  {
   "cell_type": "code",
   "execution_count": 104,
   "metadata": {},
   "outputs": [],
   "source": [
    "def get_sequence(tokenizer,texts):\n",
    "    sequences = tokenizer.texts_to_sequences(texts)\n",
    "    padded = pad_sequences(sequences,truncating='post',padding='post',maxlen=maxlen)\n",
    "    return padded\n",
    "#'post' parameter so the operations of padding and truncating are at the end"
   ]
  },
  {
   "cell_type": "code",
   "execution_count": 87,
   "metadata": {},
   "outputs": [],
   "source": [
    "padded_train = get_sequence(tokenizer,texts)"
   ]
  },
  {
   "cell_type": "code",
   "execution_count": 91,
   "metadata": {},
   "outputs": [
    {
     "name": "stdout",
     "output_type": "stream",
     "text": [
      "i didnt feel humiliated\n",
      "[[2, 139, 3, 679]]\n"
     ]
    },
    {
     "data": {
      "text/plain": [
       "array([  2, 139,   3, 679,   0,   0,   0,   0,   0,   0,   0,   0,   0,\n",
       "         0,   0,   0,   0,   0,   0,   0,   0,   0,   0,   0,   0,   0,\n",
       "         0,   0,   0,   0,   0,   0,   0,   0,   0,   0,   0,   0,   0,\n",
       "         0,   0,   0,   0,   0,   0,   0,   0,   0,   0,   0])"
      ]
     },
     "execution_count": 91,
     "metadata": {},
     "output_type": "execute_result"
    }
   ],
   "source": [
    "#text smaller than 50\n",
    "print(texts[0])\n",
    "print(tokenizer.texts_to_sequences([texts[0]]))\n",
    "padded_train[0]"
   ]
  },
  {
   "cell_type": "code",
   "execution_count": 103,
   "metadata": {},
   "outputs": [
    {
     "name": "stdout",
     "output_type": "stream",
     "text": [
      "[[2, 72, 85, 11, 15, 4, 362, 6, 299, 16, 74, 2, 40, 96, 457, 3063, 6, 1688, 9, 7407, 99, 30, 133, 680, 4, 6, 310, 9, 22, 99, 1291, 11, 15, 106, 7, 629, 264, 171, 76, 22, 26, 112, 369, 168, 5, 6, 63, 128, 74, 34, 66, 22, 8, 233]] \n",
      " Length =  54\n"
     ]
    },
    {
     "data": {
      "text/plain": [
       "array([   2,   72,   85,   11,   15,    4,  362,    6,  299,   16,   74,\n",
       "          2,   40,   96,  457, 3063,    6, 1688,    9, 7407,   99,   30,\n",
       "        133,  680,    4,    6,  310,    9,   22,   99, 1291,   11,   15,\n",
       "        106,    7,  629,  264,  171,   76,   22,   26,  112,  369,  168,\n",
       "          5,    6,   63,  128,   74,   34])"
      ]
     },
     "execution_count": 103,
     "metadata": {},
     "output_type": "execute_result"
    }
   ],
   "source": [
    "for i in range(len(texts)):\n",
    "    if len(texts[i].split(' ')) > 50:\n",
    "        break\n",
    "\n",
    "print(tokenizer.texts_to_sequences([texts[i]])\n",
    "      ,'\\n Length = ',len(tokenizer.texts_to_sequences([texts[i]])[0]))\n",
    "padded_train[i]"
   ]
  },
  {
   "cell_type": "code",
   "execution_count": 106,
   "metadata": {},
   "outputs": [
    {
     "data": {
      "text/plain": [
       "{'anger', 'fear', 'joy', 'love', 'sadness', 'surprise'}"
      ]
     },
     "execution_count": 106,
     "metadata": {},
     "output_type": "execute_result"
    }
   ],
   "source": [
    "#encoding labels\n",
    "classes = set(labels)\n",
    "classes"
   ]
  },
  {
   "cell_type": "code",
   "execution_count": 110,
   "metadata": {},
   "outputs": [
    {
     "data": {
      "text/plain": [
       "<function matplotlib.pyplot.show(close=None, block=None)>"
      ]
     },
     "execution_count": 110,
     "metadata": {},
     "output_type": "execute_result"
    },
    {
     "data": {
      "image/png": "[encoded data removed]",
      "text/plain": [
       "<Figure size 432x288 with 1 Axes>"
      ]
     },
     "metadata": {
      "needs_background": "light"
     },
     "output_type": "display_data"
    }
   ],
   "source": [
    "plt.hist(labels,bins=11)\n",
    "plt.show\n",
    "#data imbalance \n"
   ]
  },
  {
   "cell_type": "code",
   "execution_count": 119,
   "metadata": {},
   "outputs": [],
   "source": [
    "class_to_index = dict((c,i) for i,c in enumerate(classes))\n",
    "index_to_class =dict((v,k) for k,v in class_to_index.items())"
   ]
  },
  {
   "cell_type": "code",
   "execution_count": 127,
   "metadata": {},
   "outputs": [
    {
     "data": {
      "text/plain": [
       "{'love': 0, 'anger': 1, 'surprise': 2, 'fear': 3, 'sadness': 4, 'joy': 5}"
      ]
     },
     "execution_count": 127,
     "metadata": {},
     "output_type": "execute_result"
    }
   ],
   "source": [
    "class_to_index"
   ]
  },
  {
   "cell_type": "code",
   "execution_count": 123,
   "metadata": {},
   "outputs": [],
   "source": [
    "names_to_ids = lambda labels : np.array([class_to_index.get(x) for x in labels])"
   ]
  },
  {
   "cell_type": "code",
   "execution_count": 130,
   "metadata": {},
   "outputs": [
    {
     "name": "stdout",
     "output_type": "stream",
     "text": [
      "sadness\n"
     ]
    },
    {
     "data": {
      "text/plain": [
       "16000"
      ]
     },
     "execution_count": 130,
     "metadata": {},
     "output_type": "execute_result"
    }
   ],
   "source": [
    "train_labels = names_to_ids(labels)\n",
    "print(labels[0])\n",
    "train_labels[0]\n"
   ]
  },
  {
   "cell_type": "code",
   "execution_count": 137,
   "metadata": {},
   "outputs": [],
   "source": [
    "#Modeling \n",
    "from tensorflow.keras.models import Sequential\n",
    "from tensorflow.keras.layers import Embedding,Bidirectional,LSTM,Dense"
   ]
  },
  {
   "cell_type": "code",
   "execution_count": 138,
   "metadata": {},
   "outputs": [],
   "source": [
    "model = Sequential([\n",
    "    Embedding(10000,16,input_length=maxlen),\n",
    "    Bidirectional(LSTM(20,return_sequences=True)),\n",
    "    Bidirectional(LSTM(20)),\n",
    "    Dense(6,activation='softmax')\n",
    "])\n",
    "\n",
    "model.compile(loss='sparse_categorical_crossentropy',\n",
    "             optimizer='adam',\n",
    "             metrics=['accuracy'])"
   ]
  },
  {
   "cell_type": "code",
   "execution_count": 140,
   "metadata": {},
   "outputs": [
    {
     "name": "stdout",
     "output_type": "stream",
     "text": [
      "Model: \"sequential\"\n",
      "_________________________________________________________________\n",
      "Layer (type)                 Output Shape              Param #   \n",
      "=================================================================\n",
      "embedding (Embedding)        (None, 50, 16)            160000    \n",
      "_________________________________________________________________\n",
      "bidirectional (Bidirectional (None, 50, 40)            5920      \n",
      "_________________________________________________________________\n",
      "bidirectional_1 (Bidirection (None, 40)                9760      \n",
      "_________________________________________________________________\n",
      "dense (Dense)                (None, 6)                 246       \n",
      "=================================================================\n",
      "Total params: 175,926\n",
      "Trainable params: 175,926\n",
      "Non-trainable params: 0\n",
      "_________________________________________________________________\n"
     ]
    }
   ],
   "source": [
    "model.summary() #10k are our tokenized words, 6 dense we got 6 labels"
   ]
  },
  {
   "cell_type": "code",
   "execution_count": 142,
   "metadata": {},
   "outputs": [],
   "source": [
    "#training the model\n",
    "val_texts,val_labels = get_tweet(validation)\n",
    "val_seq = get_sequence(tokenizer,val_texts)\n",
    "val_labels = names_to_ids(val_labels)"
   ]
  },
  {
   "cell_type": "code",
   "execution_count": 146,
   "metadata": {},
   "outputs": [
    {
     "name": "stdout",
     "output_type": "stream",
     "text": [
      "{'label': 'sadness', 'text': 'im feeling quite sad and sorry for myself but ill snap out of it soon'}\n",
      "im feeling quite sad and sorry for myself but ill snap out of it soon 4\n"
     ]
    }
   ],
   "source": [
    "print(validation[0])\n",
    "print(val_texts[0],val_labels[0])"
   ]
  },
  {
   "cell_type": "code",
   "execution_count": 147,
   "metadata": {},
   "outputs": [
    {
     "name": "stdout",
     "output_type": "stream",
     "text": [
      "Epoch 1/20\n",
      "500/500 [==============================] - 19s 23ms/step - loss: 1.5674 - accuracy: 0.3411 - val_loss: 1.1031 - val_accuracy: 0.5660\n",
      "Epoch 2/20\n",
      "500/500 [==============================] - 10s 20ms/step - loss: 0.8734 - accuracy: 0.6599 - val_loss: 0.5611 - val_accuracy: 0.8250\n",
      "Epoch 3/20\n",
      "500/500 [==============================] - 10s 20ms/step - loss: 0.3765 - accuracy: 0.8808 - val_loss: 0.4203 - val_accuracy: 0.8655\n",
      "Epoch 4/20\n",
      "500/500 [==============================] - 10s 19ms/step - loss: 0.2219 - accuracy: 0.9271 - val_loss: 0.4565 - val_accuracy: 0.8630\n",
      "Epoch 5/20\n",
      "500/500 [==============================] - 10s 20ms/step - loss: 0.1553 - accuracy: 0.9495 - val_loss: 0.4153 - val_accuracy: 0.8830\n",
      "Epoch 6/20\n",
      "500/500 [==============================] - 10s 20ms/step - loss: 0.1136 - accuracy: 0.9659 - val_loss: 0.3809 - val_accuracy: 0.8855\n",
      "Epoch 7/20\n",
      "500/500 [==============================] - 10s 20ms/step - loss: 0.0886 - accuracy: 0.9720 - val_loss: 0.4098 - val_accuracy: 0.8885\n",
      "Epoch 8/20\n",
      "500/500 [==============================] - 10s 20ms/step - loss: 0.0743 - accuracy: 0.9762 - val_loss: 0.4304 - val_accuracy: 0.8755\n",
      "Epoch 9/20\n",
      "500/500 [==============================] - 10s 20ms/step - loss: 0.0645 - accuracy: 0.9794 - val_loss: 0.4569 - val_accuracy: 0.8860\n"
     ]
    }
   ],
   "source": [
    "trained_model = model.fit(\n",
    "padded_train, train_labels,\n",
    "    validation_data=(val_seq,val_labels),\n",
    "    epochs=20,\n",
    "    callbacks=[tf.keras.callbacks.EarlyStopping(monitor='val_accuracy',patience=2)]\n",
    ")"
   ]
  },
  {
   "cell_type": "code",
   "execution_count": 150,
   "metadata": {},
   "outputs": [
    {
     "data": {
      "image/png": "[encoded data removed]",
      "text/plain": [
       "<Figure size 1152x432 with 2 Axes>"
      ]
     },
     "metadata": {
      "needs_background": "light"
     },
     "output_type": "display_data"
    }
   ],
   "source": [
    "#model evaluation\n",
    "show_history(trained_model)"
   ]
  },
  {
   "cell_type": "code",
   "execution_count": 152,
   "metadata": {},
   "outputs": [],
   "source": [
    "test_texts,test_labels = get_tweet(test)\n",
    "test_seq = get_sequence(tokenizer,test_texts)\n",
    "test_labels = names_to_ids(test_labels)\n"
   ]
  },
  {
   "cell_type": "code",
   "execution_count": 155,
   "metadata": {},
   "outputs": [
    {
     "name": "stdout",
     "output_type": "stream",
     "text": [
      "63/63 [==============================] - 1s 11ms/step - loss: 0.4114 - accuracy: 0.8855\n"
     ]
    }
   ],
   "source": [
    "_ = model.evaluate(test_seq,test_labels)"
   ]
  },
  {
   "cell_type": "code",
   "execution_count": 170,
   "metadata": {},
   "outputs": [
    {
     "name": "stdout",
     "output_type": "stream",
     "text": [
      "Sentence :  im feeling rather rotten so im not very ambitious right now\n",
      "Emotion :  sadness\n",
      "Predicted : sadness\n"
     ]
    }
   ],
   "source": [
    "print('Sentence : ',test_texts[0])\n",
    "print('Emotion : ',index_to_class[test_labels[0]])\n",
    "p = model.predict(np.expand_dims(test_seq[0],axis=0))[0]\n",
    "pred_class = index_to_class[np.argmax(p).astype('uint8')]\n",
    "print('Predicted :', pred_class)"
   ]
  },
  {
   "cell_type": "code",
   "execution_count": 188,
   "metadata": {},
   "outputs": [
    {
     "name": "stderr",
     "output_type": "stream",
     "text": [
      "C:\\ProgramData\\Anaconda3\\lib\\site-packages\\tensorflow\\python\\keras\\engine\\sequential.py:450: UserWarning: `model.predict_classes()` is deprecated and will be removed after 2021-01-01. Please use instead:* `np.argmax(model.predict(x), axis=-1)`,   if your model does multi-class classification   (e.g. if it uses a `softmax` last-layer activation).* `(model.predict(x) > 0.5).astype(\"int32\")`,   if your model does binary classification   (e.g. if it uses a `sigmoid` last-layer activation).\n",
      "  warnings.warn('`model.predict_classes()` is deprecated and '\n"
     ]
    },
    {
     "name": "stdout",
     "output_type": "stream",
     "text": [
      "Sentence :  im feeling rather rotten so im not very ambitious right now\n",
      "Emotion :  sadness\n",
      "159 2000 0.0795\n"
     ]
    }
   ],
   "source": [
    "p = model.predict(test_seq)\n",
    "print('Sentence : ',test_texts[0])\n",
    "print('Emotion : ',index_to_class[test_labels[0]])\n",
    "index_to_class[np.argmax(p[0])]\n",
    "c = 0\n",
    "for i in range(len(test_seq)):\n",
    "    if index_to_class[test_labels[i]] == index_to_class[np.argmax(p[i])] :\n",
    "        c+=1\n",
    "print(c,len(test_seq), c/len(test_seq))   \n"
   ]
  },
  {
   "cell_type": "code",
   "execution_count": 191,
   "metadata": {},
   "outputs": [
    {
     "data": {
      "image/png": "[encoded data removed]",
      "text/plain": [
       "<Figure size 576x576 with 2 Axes>"
      ]
     },
     "metadata": {
      "needs_background": "light"
     },
     "output_type": "display_data"
    }
   ],
   "source": [
    "p = np.argmax(model.predict(test_seq),axis=-1)\n",
    "show_confusion_matrix(test_labels,p,list(classes))\n",
    "\n",
    "# we have some issues in the surprise/fear"
   ]
  }
 ],
 "metadata": {
  "kernelspec": {
   "display_name": "Python 3",
   "language": "python",
   "name": "python3"
  },
  "language_info": {
   "codemirror_mode": {
    "name": "ipython",
    "version": 3
   },
   "file_extension": ".py",
   "mimetype": "text/x-python",
   "name": "python",
   "nbconvert_exporter": "python",
   "pygments_lexer": "ipython3",
   "version": "3.8.5"
  }
 },
 "nbformat": 4,
 "nbformat_minor": 4
}
